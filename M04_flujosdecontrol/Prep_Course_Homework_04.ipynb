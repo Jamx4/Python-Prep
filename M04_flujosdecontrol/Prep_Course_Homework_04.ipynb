{
 "cells": [
  {
   "attachments": {},
   "cell_type": "markdown",
   "metadata": {},
   "source": [
    "## Flujos de Control"
   ]
  },
  {
   "attachments": {},
   "cell_type": "markdown",
   "metadata": {},
   "source": [
    "1) Crear una variable que contenga un elemento del conjunto de números enteros y luego imprimir por pantalla si es mayor o menor a cero"
   ]
  },
  {
   "cell_type": "code",
   "execution_count": 6,
   "metadata": {},
   "outputs": [
    {
     "name": "stdout",
     "output_type": "stream",
     "text": [
      "8 Es mayor que cero\n"
     ]
    }
   ],
   "source": [
    "variable1 = 8\n",
    "if variable1 >= 0:\n",
    "    print(f\"{variable1} Es mayor que cero\")\n",
    "elif variable1 <= 0:\n",
    "    print(f\"{variable1}) Es menor cero\")\n",
    "else:\n",
    "    print(\"La variable es igual\")"
   ]
  },
  {
   "attachments": {},
   "cell_type": "markdown",
   "metadata": {},
   "source": [
    "2) Crear dos variables y un condicional que informe si son del mismo tipo de dato"
   ]
  },
  {
   "cell_type": "code",
   "execution_count": 20,
   "metadata": {},
   "outputs": [
    {
     "name": "stdout",
     "output_type": "stream",
     "text": [
      "La variable '5' es un tipo de dato diferente que la variable 'Nombre'\n"
     ]
    }
   ],
   "source": [
    "v1 = 5\n",
    "v2 = 'Nombre'\n",
    "\n",
    "if type(v1) == type(v2):\n",
    "    print(f\"La variabl '{v1}' es el mismo tipo de dato que la variable '{v2}'\")\n",
    "else:\n",
    "    print(f\"La variable '{v1}' es un tipo de dato diferente que la variable '{v2}'\")\n"
   ]
  },
  {
   "attachments": {},
   "cell_type": "markdown",
   "metadata": {},
   "source": [
    "3) Para los valores enteros del 1 al 20, imprimir por pantalla si es par o impar"
   ]
  },
  {
   "cell_type": "code",
   "execution_count": 2,
   "metadata": {},
   "outputs": [
    {
     "name": "stdout",
     "output_type": "stream",
     "text": [
      "1 es impar\n",
      "2 es par\n",
      "3 es impar\n",
      "4 es par\n",
      "5 es impar\n",
      "6 es par\n",
      "7 es impar\n",
      "8 es par\n",
      "9 es impar\n",
      "10 es par\n",
      "11 es impar\n",
      "12 es par\n",
      "13 es impar\n",
      "14 es par\n",
      "15 es impar\n",
      "16 es par\n",
      "17 es impar\n",
      "18 es par\n",
      "19 es impar\n",
      "20 es par\n"
     ]
    }
   ],
   "source": [
    "for enteros in range(1, 21):\n",
    "    if enteros % 2 == 0:\n",
    "        print(enteros, \"es par\")\n",
    "    else:\n",
    "        print(enteros, \"es impar\")"
   ]
  },
  {
   "attachments": {},
   "cell_type": "markdown",
   "metadata": {},
   "source": [
    "4) En un ciclo for mostrar para los valores entre 0 y 5 el resultado de elevarlo a la potencia igual a 3"
   ]
  },
  {
   "cell_type": "code",
   "execution_count": 2,
   "metadata": {},
   "outputs": [
    {
     "name": "stdout",
     "output_type": "stream",
     "text": [
      "0 elevado al exponente 3 es= 0\n",
      "1 elevado al exponente 3 es= 1\n",
      "2 elevado al exponente 3 es= 8\n",
      "3 elevado al exponente 3 es= 27\n",
      "4 elevado al exponente 3 es= 64\n",
      "5 elevado al exponente 3 es= 125\n"
     ]
    }
   ],
   "source": [
    "for i in range(0,6):\n",
    "    potencia=i**3\n",
    "    print(i,\"elevado al exponente 3 es=\", potencia)"
   ]
  },
  {
   "attachments": {},
   "cell_type": "markdown",
   "metadata": {},
   "source": [
    "5) Crear una variable que contenga un número entero y realizar un ciclo for la misma cantidad de ciclos"
   ]
  },
  {
   "cell_type": "code",
   "execution_count": 8,
   "metadata": {},
   "outputs": [
    {
     "name": "stdout",
     "output_type": "stream",
     "text": [
      "1\n",
      "2\n",
      "3\n",
      "4\n"
     ]
    }
   ],
   "source": [
    "v_ent= 4\n",
    "for c in range(1,v_ent+1):\n",
    "    print(c)"
   ]
  },
  {
   "attachments": {},
   "cell_type": "markdown",
   "metadata": {},
   "source": [
    "6) Utilizar un ciclo while para realizar el factorial de un número guardado en una variable, sólo si la variable contiene un número entero mayor a 0"
   ]
  },
  {
   "cell_type": "code",
   "execution_count": 1,
   "metadata": {},
   "outputs": [
    {
     "name": "stdout",
     "output_type": "stream",
     "text": [
      "24\n"
     ]
    }
   ],
   "source": [
    "nro = 4\n",
    "fact = 1\n",
    "if type(nro) == int and nro > 0:\n",
    "    while nro >= 1:\n",
    "        fact = nro * fact\n",
    "        nro -= 1\n",
    "print(fact)"
   ]
  },
  {
   "attachments": {},
   "cell_type": "markdown",
   "metadata": {},
   "source": [
    "7) Crear un ciclo for dentro de un ciclo while"
   ]
  },
  {
   "cell_type": "code",
   "execution_count": 15,
   "metadata": {},
   "outputs": [
    {
     "name": "stdout",
     "output_type": "stream",
     "text": [
      "ciclo while 1\n",
      "ciclo for 1\n",
      "ciclo while 2\n",
      "ciclo for 1\n",
      "ciclo for 2\n",
      "ciclo while 3\n",
      "ciclo for 1\n",
      "ciclo for 2\n",
      "ciclo for 3\n"
     ]
    }
   ],
   "source": [
    "num = 1\n",
    "while num < 4:\n",
    "    print('ciclo while',num) \n",
    "    for i in range(1, num+1):\n",
    "        print('ciclo for',i)\n",
    "    num += 1"
   ]
  },
  {
   "attachments": {},
   "cell_type": "markdown",
   "metadata": {},
   "source": [
    "8) Crear un ciclo while dentro de un ciclo for"
   ]
  },
  {
   "cell_type": "code",
   "execution_count": 35,
   "metadata": {},
   "outputs": [
    {
     "name": "stdout",
     "output_type": "stream",
     "text": [
      "ciclo for 1\n",
      "ciclo while 1\n",
      "ciclo for 2\n",
      "ciclo while 2\n",
      "ciclo while 1\n",
      "ciclo for 3\n",
      "ciclo while 3\n",
      "ciclo while 2\n",
      "ciclo while 1\n",
      "ciclo for 4\n",
      "ciclo while 4\n",
      "ciclo while 3\n",
      "ciclo while 2\n",
      "ciclo while 1\n"
     ]
    }
   ],
   "source": [
    "n = 5\n",
    "for i in range(1,n):\n",
    "    print('ciclo for',i)\n",
    "    x = i\n",
    "    while x > 0:\n",
    "        print('ciclo while',x)\n",
    "        x -= 1"
   ]
  },
  {
   "attachments": {},
   "cell_type": "markdown",
   "metadata": {},
   "source": [
    "9) Imprimir los números primos existentes entre 0 y 30"
   ]
  },
  {
   "cell_type": "code",
   "execution_count": 6,
   "metadata": {},
   "outputs": [
    {
     "name": "stdout",
     "output_type": "stream",
     "text": [
      "2\n",
      "3\n",
      "5\n",
      "7\n",
      "11\n",
      "13\n",
      "17\n",
      "19\n",
      "23\n",
      "29\n"
     ]
    }
   ],
   "source": [
    "primo = True\n",
    "for i in range(2, 31):\n",
    "    for p in range(2, i):\n",
    "        if (i % p == 0):\n",
    "            primo = False\n",
    "    if primo:\n",
    "        print(i)\n",
    "    else:\n",
    "        primo = True\n"
   ]
  },
  {
   "attachments": {},
   "cell_type": "markdown",
   "metadata": {},
   "source": [
    "10) ¿Se puede mejorar el proceso del punto 9? Utilizar las sentencias break y/ó continue para tal fin"
   ]
  },
  {
   "cell_type": "code",
   "execution_count": 5,
   "metadata": {},
   "outputs": [
    {
     "name": "stdout",
     "output_type": "stream",
     "text": [
      "2\n",
      "3\n",
      "5\n",
      "7\n",
      "11\n",
      "13\n",
      "17\n",
      "19\n",
      "23\n",
      "29\n"
     ]
    }
   ],
   "source": [
    "primo = True\n",
    "for i in range(2, 31):\n",
    "    for p in range(2, i):\n",
    "        if (i % p == 0):\n",
    "            primo = False\n",
    "            break\n",
    "    if primo:\n",
    "        print(i)\n",
    "    else:\n",
    "        primo = True\n"
   ]
  },
  {
   "attachments": {},
   "cell_type": "markdown",
   "metadata": {},
   "source": [
    "11) En los puntos 9 y 10, se diseño un código que encuentra números primos y además se lo optimizó. ¿Es posible saber en qué medida se optimizó?"
   ]
  },
  {
   "cell_type": "code",
   "execution_count": 10,
   "metadata": {},
   "outputs": [
    {
     "name": "stdout",
     "output_type": "stream",
     "text": [
      "2\n",
      "3\n",
      "5\n",
      "7\n",
      "11\n",
      "13\n",
      "17\n",
      "19\n",
      "23\n",
      "29\n",
      "Cantidad de ciclos con break: 135\n"
     ]
    }
   ],
   "source": [
    "# Agregando la condición \"break\" se hace que se generen menos ciclos, ya que al encontrar el primer número que no sea \n",
    "# divisible, no es necesario que siga interando el código, pues con la primera condición de primo=false encontrada es suficiente.\n",
    "primo = True\n",
    "ciclos_con_break = 0\n",
    "for i in range(2, 31):\n",
    "    for p in range(2, i):\n",
    "        ciclos_con_break += 1\n",
    "        if (i % p == 0):\n",
    "            primo = False\n",
    "            break\n",
    "    if primo:\n",
    "        print(i)\n",
    "    else:\n",
    "        primo = True\n",
    "print(\"Cantidad de ciclos con break:\",ciclos_con_break,)"
   ]
  },
  {
   "attachments": {},
   "cell_type": "markdown",
   "metadata": {},
   "source": [
    "12) Aplicando continue, armar un ciclo while que solo imprima los valores divisibles por 12, dentro del rango de números de 100 a 300"
   ]
  },
  {
   "cell_type": "code",
   "execution_count": 15,
   "metadata": {},
   "outputs": [
    {
     "name": "stdout",
     "output_type": "stream",
     "text": [
      "108 Es divisible por 12\n",
      "120 Es divisible por 12\n",
      "132 Es divisible por 12\n",
      "144 Es divisible por 12\n",
      "156 Es divisible por 12\n",
      "168 Es divisible por 12\n",
      "180 Es divisible por 12\n",
      "192 Es divisible por 12\n",
      "204 Es divisible por 12\n",
      "216 Es divisible por 12\n",
      "228 Es divisible por 12\n",
      "240 Es divisible por 12\n",
      "252 Es divisible por 12\n",
      "264 Es divisible por 12\n",
      "276 Es divisible por 12\n",
      "288 Es divisible por 12\n",
      "300 Es divisible por 12\n"
     ]
    }
   ],
   "source": [
    "n_d = 99\n",
    "while n_d <= 300:\n",
    "    n_d += 1\n",
    "    resto = n_d % 12\n",
    "    if resto % 12 != 0:\n",
    "        continue\n",
    "    print(n_d, 'Es divisible por 12')\n"
   ]
  },
  {
   "attachments": {},
   "cell_type": "markdown",
   "metadata": {},
   "source": [
    "13) Utilizar la función **input()** que permite hacer ingresos por teclado, para encontrar números primos y dar la opción al usario de buscar el siguiente"
   ]
  },
  {
   "cell_type": "code",
   "execution_count": 10,
   "metadata": {},
   "outputs": [
    {
     "name": "stdout",
     "output_type": "stream",
     "text": [
      "El valor 2 es primo\n",
      "¿Quiere buscar el siguiente número primo?\n",
      "El valor 3 es primo\n",
      "¿Quiere buscar el siguiente número primo?\n",
      "El valor 5 es primo\n",
      "¿Quiere buscar el siguiente número primo?\n",
      "El valor 7 es primo\n",
      "¿Quiere buscar el siguiente número primo?\n",
      "El valor 11 es primo\n",
      "¿Quiere buscar el siguiente número primo?\n",
      "El valor 13 es primo\n",
      "¿Quiere buscar el siguiente número primo?\n",
      "El valor 17 es primo\n",
      "¿Quiere buscar el siguiente número primo?\n",
      "El valor 19 es primo\n",
      "¿Quiere buscar el siguiente número primo?\n",
      "Se finaliza la busqueda.\n"
     ]
    }
   ],
   "source": [
    "buscar_primo = True\n",
    "n = 2\n",
    "primo = True\n",
    "while buscar_primo:\n",
    "    for p in range(2, n):\n",
    "        if (n % p == 0):\n",
    "            primo = False\n",
    "            break\n",
    "    if primo:\n",
    "        print('El valor',n,'es primo')\n",
    "        print('¿Quiere buscar el siguiente número primo?')\n",
    "        continuar_buscando = input(\"Ingrese 'si' o 'no' :\")\n",
    "        if continuar_buscando == 'no':\n",
    "            print('Se finaliza la busqueda.')\n",
    "            buscar_primo = False\n",
    "            break\n",
    "    else:\n",
    "        primo = True\n",
    "    n = n + 1"
   ]
  },
  {
   "attachments": {},
   "cell_type": "markdown",
   "metadata": {},
   "source": [
    "14) Crear un ciclo while que encuentre dentro del rango de 100 a 300 el primer número divisible por 3 y además múltiplo de 6"
   ]
  },
  {
   "cell_type": "code",
   "execution_count": 14,
   "metadata": {},
   "outputs": [
    {
     "name": "stdout",
     "output_type": "stream",
     "text": [
      "El primer número es: 102\n"
     ]
    }
   ],
   "source": [
    "n = 100\n",
    "while (n <= 300):\n",
    "    if n % 6 == 0:\n",
    "        print('El primer número es:',n)\n",
    "        break\n",
    "    n += 1"
   ]
  }
 ],
 "metadata": {
  "interpreter": {
   "hash": "c85384e4cb51c8b72350f3a8712cc8351fdc3955e32a27f9b60c6242ab125f01"
  },
  "kernelspec": {
   "display_name": "Python 3 (ipykernel)",
   "language": "python",
   "name": "python3"
  },
  "language_info": {
   "codemirror_mode": {
    "name": "ipython",
    "version": 3
   },
   "file_extension": ".py",
   "mimetype": "text/x-python",
   "name": "python",
   "nbconvert_exporter": "python",
   "pygments_lexer": "ipython3",
   "version": "3.11.4"
  }
 },
 "nbformat": 4,
 "nbformat_minor": 4
}
